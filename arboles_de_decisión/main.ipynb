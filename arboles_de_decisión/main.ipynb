{
 "cells": [
  {
   "cell_type": "markdown",
   "id": "4d24fc27-1122-48ac-806a-6637dd023770",
   "metadata": {},
   "source": [
    "RED WINE QUALITY"
   ]
  },
  {
   "cell_type": "code",
   "execution_count": 46,
   "id": "44d68b82-7f78-40ef-a086-9a0f4f728be6",
   "metadata": {},
   "outputs": [],
   "source": [
    "import pandas as pd #Manejo y análisis de estructuras de datos\n",
    "import numpy as mp # Cálculo numético y análisis de datos\n",
    "import seaborn as sns # Creación gráficos estadísticos\n",
    "import matplotlib.pyplot as plt #Creación de gráficos en dos dimensiones\n",
    "\n",
    "#librerias para implementar modelos de ciencia de datos\n",
    "from sklearn import metrics\n",
    "from sklearn.model_selection import train_test_split\n",
    "from sklearn.linear_model import LogisticRegression\n",
    "#from sliearn.linear_model import LinearRegression \n",
    "from sklearn.metrics import classification_report, confusion_matrix"
   ]
  },
  {
   "cell_type": "markdown",
   "id": "2ac3a9c7-306b-4502-bc5a-0d3ef9239819",
   "metadata": {},
   "source": [
    "1. Realizar análsis exploratorio de datos (relaciones entre variables, valores atipicos, tendencias)"
   ]
  },
  {
   "cell_type": "code",
   "execution_count": 47,
   "id": "9a1f1281-5fb1-4918-8bc5-08704c0483ed",
   "metadata": {},
   "outputs": [],
   "source": [
    "#Lectura de datos en  Python y cargamos en la variable de de Datos7  \n",
    "Data = pd.read_csv('D:\\Proyecto2022\\Data\\winequality-red.csv')"
   ]
  },
  {
   "cell_type": "code",
   "execution_count": 48,
   "id": "b05a3f30-d5fc-4066-9170-4fc6fbc17642",
   "metadata": {},
   "outputs": [
    {
     "data": {
      "text/html": [
       "<div>\n",
       "<style scoped>\n",
       "    .dataframe tbody tr th:only-of-type {\n",
       "        vertical-align: middle;\n",
       "    }\n",
       "\n",
       "    .dataframe tbody tr th {\n",
       "        vertical-align: top;\n",
       "    }\n",
       "\n",
       "    .dataframe thead th {\n",
       "        text-align: right;\n",
       "    }\n",
       "</style>\n",
       "<table border=\"1\" class=\"dataframe\">\n",
       "  <thead>\n",
       "    <tr style=\"text-align: right;\">\n",
       "      <th></th>\n",
       "      <th>fixed acidity</th>\n",
       "      <th>volatile acidity</th>\n",
       "      <th>citric acid</th>\n",
       "      <th>residual sugar</th>\n",
       "      <th>chlorides</th>\n",
       "      <th>free sulfur dioxide</th>\n",
       "      <th>total sulfur dioxide</th>\n",
       "      <th>density</th>\n",
       "      <th>pH</th>\n",
       "      <th>sulphates</th>\n",
       "      <th>alcohol</th>\n",
       "      <th>quality</th>\n",
       "    </tr>\n",
       "  </thead>\n",
       "  <tbody>\n",
       "    <tr>\n",
       "      <th>0</th>\n",
       "      <td>7.4</td>\n",
       "      <td>0.700</td>\n",
       "      <td>0.00</td>\n",
       "      <td>1.9</td>\n",
       "      <td>0.076</td>\n",
       "      <td>11.0</td>\n",
       "      <td>34.0</td>\n",
       "      <td>0.99780</td>\n",
       "      <td>3.51</td>\n",
       "      <td>0.56</td>\n",
       "      <td>9.4</td>\n",
       "      <td>5</td>\n",
       "    </tr>\n",
       "    <tr>\n",
       "      <th>1</th>\n",
       "      <td>7.8</td>\n",
       "      <td>0.880</td>\n",
       "      <td>0.00</td>\n",
       "      <td>2.6</td>\n",
       "      <td>0.098</td>\n",
       "      <td>25.0</td>\n",
       "      <td>67.0</td>\n",
       "      <td>0.99680</td>\n",
       "      <td>3.20</td>\n",
       "      <td>0.68</td>\n",
       "      <td>9.8</td>\n",
       "      <td>5</td>\n",
       "    </tr>\n",
       "    <tr>\n",
       "      <th>2</th>\n",
       "      <td>7.8</td>\n",
       "      <td>0.760</td>\n",
       "      <td>0.04</td>\n",
       "      <td>2.3</td>\n",
       "      <td>0.092</td>\n",
       "      <td>15.0</td>\n",
       "      <td>54.0</td>\n",
       "      <td>0.99700</td>\n",
       "      <td>3.26</td>\n",
       "      <td>0.65</td>\n",
       "      <td>9.8</td>\n",
       "      <td>5</td>\n",
       "    </tr>\n",
       "    <tr>\n",
       "      <th>3</th>\n",
       "      <td>11.2</td>\n",
       "      <td>0.280</td>\n",
       "      <td>0.56</td>\n",
       "      <td>1.9</td>\n",
       "      <td>0.075</td>\n",
       "      <td>17.0</td>\n",
       "      <td>60.0</td>\n",
       "      <td>0.99800</td>\n",
       "      <td>3.16</td>\n",
       "      <td>0.58</td>\n",
       "      <td>9.8</td>\n",
       "      <td>6</td>\n",
       "    </tr>\n",
       "    <tr>\n",
       "      <th>4</th>\n",
       "      <td>7.4</td>\n",
       "      <td>0.700</td>\n",
       "      <td>0.00</td>\n",
       "      <td>1.9</td>\n",
       "      <td>0.076</td>\n",
       "      <td>11.0</td>\n",
       "      <td>34.0</td>\n",
       "      <td>0.99780</td>\n",
       "      <td>3.51</td>\n",
       "      <td>0.56</td>\n",
       "      <td>9.4</td>\n",
       "      <td>5</td>\n",
       "    </tr>\n",
       "    <tr>\n",
       "      <th>...</th>\n",
       "      <td>...</td>\n",
       "      <td>...</td>\n",
       "      <td>...</td>\n",
       "      <td>...</td>\n",
       "      <td>...</td>\n",
       "      <td>...</td>\n",
       "      <td>...</td>\n",
       "      <td>...</td>\n",
       "      <td>...</td>\n",
       "      <td>...</td>\n",
       "      <td>...</td>\n",
       "      <td>...</td>\n",
       "    </tr>\n",
       "    <tr>\n",
       "      <th>1594</th>\n",
       "      <td>6.2</td>\n",
       "      <td>0.600</td>\n",
       "      <td>0.08</td>\n",
       "      <td>2.0</td>\n",
       "      <td>0.090</td>\n",
       "      <td>32.0</td>\n",
       "      <td>44.0</td>\n",
       "      <td>0.99490</td>\n",
       "      <td>3.45</td>\n",
       "      <td>0.58</td>\n",
       "      <td>10.5</td>\n",
       "      <td>5</td>\n",
       "    </tr>\n",
       "    <tr>\n",
       "      <th>1595</th>\n",
       "      <td>5.9</td>\n",
       "      <td>0.550</td>\n",
       "      <td>0.10</td>\n",
       "      <td>2.2</td>\n",
       "      <td>0.062</td>\n",
       "      <td>39.0</td>\n",
       "      <td>51.0</td>\n",
       "      <td>0.99512</td>\n",
       "      <td>3.52</td>\n",
       "      <td>0.76</td>\n",
       "      <td>11.2</td>\n",
       "      <td>6</td>\n",
       "    </tr>\n",
       "    <tr>\n",
       "      <th>1596</th>\n",
       "      <td>6.3</td>\n",
       "      <td>0.510</td>\n",
       "      <td>0.13</td>\n",
       "      <td>2.3</td>\n",
       "      <td>0.076</td>\n",
       "      <td>29.0</td>\n",
       "      <td>40.0</td>\n",
       "      <td>0.99574</td>\n",
       "      <td>3.42</td>\n",
       "      <td>0.75</td>\n",
       "      <td>11.0</td>\n",
       "      <td>6</td>\n",
       "    </tr>\n",
       "    <tr>\n",
       "      <th>1597</th>\n",
       "      <td>5.9</td>\n",
       "      <td>0.645</td>\n",
       "      <td>0.12</td>\n",
       "      <td>2.0</td>\n",
       "      <td>0.075</td>\n",
       "      <td>32.0</td>\n",
       "      <td>44.0</td>\n",
       "      <td>0.99547</td>\n",
       "      <td>3.57</td>\n",
       "      <td>0.71</td>\n",
       "      <td>10.2</td>\n",
       "      <td>5</td>\n",
       "    </tr>\n",
       "    <tr>\n",
       "      <th>1598</th>\n",
       "      <td>6.0</td>\n",
       "      <td>0.310</td>\n",
       "      <td>0.47</td>\n",
       "      <td>3.6</td>\n",
       "      <td>0.067</td>\n",
       "      <td>18.0</td>\n",
       "      <td>42.0</td>\n",
       "      <td>0.99549</td>\n",
       "      <td>3.39</td>\n",
       "      <td>0.66</td>\n",
       "      <td>11.0</td>\n",
       "      <td>6</td>\n",
       "    </tr>\n",
       "  </tbody>\n",
       "</table>\n",
       "<p>1599 rows × 12 columns</p>\n",
       "</div>"
      ],
      "text/plain": [
       "      fixed acidity  volatile acidity  citric acid  residual sugar  chlorides  \\\n",
       "0               7.4             0.700         0.00             1.9      0.076   \n",
       "1               7.8             0.880         0.00             2.6      0.098   \n",
       "2               7.8             0.760         0.04             2.3      0.092   \n",
       "3              11.2             0.280         0.56             1.9      0.075   \n",
       "4               7.4             0.700         0.00             1.9      0.076   \n",
       "...             ...               ...          ...             ...        ...   \n",
       "1594            6.2             0.600         0.08             2.0      0.090   \n",
       "1595            5.9             0.550         0.10             2.2      0.062   \n",
       "1596            6.3             0.510         0.13             2.3      0.076   \n",
       "1597            5.9             0.645         0.12             2.0      0.075   \n",
       "1598            6.0             0.310         0.47             3.6      0.067   \n",
       "\n",
       "      free sulfur dioxide  total sulfur dioxide  density    pH  sulphates  \\\n",
       "0                    11.0                  34.0  0.99780  3.51       0.56   \n",
       "1                    25.0                  67.0  0.99680  3.20       0.68   \n",
       "2                    15.0                  54.0  0.99700  3.26       0.65   \n",
       "3                    17.0                  60.0  0.99800  3.16       0.58   \n",
       "4                    11.0                  34.0  0.99780  3.51       0.56   \n",
       "...                   ...                   ...      ...   ...        ...   \n",
       "1594                 32.0                  44.0  0.99490  3.45       0.58   \n",
       "1595                 39.0                  51.0  0.99512  3.52       0.76   \n",
       "1596                 29.0                  40.0  0.99574  3.42       0.75   \n",
       "1597                 32.0                  44.0  0.99547  3.57       0.71   \n",
       "1598                 18.0                  42.0  0.99549  3.39       0.66   \n",
       "\n",
       "      alcohol  quality  \n",
       "0         9.4        5  \n",
       "1         9.8        5  \n",
       "2         9.8        5  \n",
       "3         9.8        6  \n",
       "4         9.4        5  \n",
       "...       ...      ...  \n",
       "1594     10.5        5  \n",
       "1595     11.2        6  \n",
       "1596     11.0        6  \n",
       "1597     10.2        5  \n",
       "1598     11.0        6  \n",
       "\n",
       "[1599 rows x 12 columns]"
      ]
     },
     "execution_count": 48,
     "metadata": {},
     "output_type": "execute_result"
    }
   ],
   "source": [
    "#Lectura de datos para análsis exploratorio\n",
    "Data.head(8128)"
   ]
  },
  {
   "cell_type": "code",
   "execution_count": 49,
   "id": "ae350da8-163b-49cd-a70e-f41c8e59e457",
   "metadata": {},
   "outputs": [
    {
     "data": {
      "text/html": [
       "<div>\n",
       "<style scoped>\n",
       "    .dataframe tbody tr th:only-of-type {\n",
       "        vertical-align: middle;\n",
       "    }\n",
       "\n",
       "    .dataframe tbody tr th {\n",
       "        vertical-align: top;\n",
       "    }\n",
       "\n",
       "    .dataframe thead th {\n",
       "        text-align: right;\n",
       "    }\n",
       "</style>\n",
       "<table border=\"1\" class=\"dataframe\">\n",
       "  <thead>\n",
       "    <tr style=\"text-align: right;\">\n",
       "      <th></th>\n",
       "      <th>fixed acidity</th>\n",
       "      <th>volatile acidity</th>\n",
       "      <th>citric acid</th>\n",
       "      <th>residual sugar</th>\n",
       "      <th>chlorides</th>\n",
       "      <th>free sulfur dioxide</th>\n",
       "      <th>total sulfur dioxide</th>\n",
       "      <th>density</th>\n",
       "      <th>pH</th>\n",
       "      <th>sulphates</th>\n",
       "      <th>alcohol</th>\n",
       "      <th>quality</th>\n",
       "    </tr>\n",
       "  </thead>\n",
       "  <tbody>\n",
       "    <tr>\n",
       "      <th>count</th>\n",
       "      <td>1599.000000</td>\n",
       "      <td>1599.000000</td>\n",
       "      <td>1599.000000</td>\n",
       "      <td>1599.000000</td>\n",
       "      <td>1599.000000</td>\n",
       "      <td>1599.000000</td>\n",
       "      <td>1599.000000</td>\n",
       "      <td>1599.000000</td>\n",
       "      <td>1599.000000</td>\n",
       "      <td>1599.000000</td>\n",
       "      <td>1599.000000</td>\n",
       "      <td>1599.000000</td>\n",
       "    </tr>\n",
       "    <tr>\n",
       "      <th>mean</th>\n",
       "      <td>8.319637</td>\n",
       "      <td>0.527821</td>\n",
       "      <td>0.270976</td>\n",
       "      <td>2.538806</td>\n",
       "      <td>0.087467</td>\n",
       "      <td>15.874922</td>\n",
       "      <td>46.467792</td>\n",
       "      <td>0.996747</td>\n",
       "      <td>3.311113</td>\n",
       "      <td>0.658149</td>\n",
       "      <td>10.422983</td>\n",
       "      <td>5.636023</td>\n",
       "    </tr>\n",
       "    <tr>\n",
       "      <th>std</th>\n",
       "      <td>1.741096</td>\n",
       "      <td>0.179060</td>\n",
       "      <td>0.194801</td>\n",
       "      <td>1.409928</td>\n",
       "      <td>0.047065</td>\n",
       "      <td>10.460157</td>\n",
       "      <td>32.895324</td>\n",
       "      <td>0.001887</td>\n",
       "      <td>0.154386</td>\n",
       "      <td>0.169507</td>\n",
       "      <td>1.065668</td>\n",
       "      <td>0.807569</td>\n",
       "    </tr>\n",
       "    <tr>\n",
       "      <th>min</th>\n",
       "      <td>4.600000</td>\n",
       "      <td>0.120000</td>\n",
       "      <td>0.000000</td>\n",
       "      <td>0.900000</td>\n",
       "      <td>0.012000</td>\n",
       "      <td>1.000000</td>\n",
       "      <td>6.000000</td>\n",
       "      <td>0.990070</td>\n",
       "      <td>2.740000</td>\n",
       "      <td>0.330000</td>\n",
       "      <td>8.400000</td>\n",
       "      <td>3.000000</td>\n",
       "    </tr>\n",
       "    <tr>\n",
       "      <th>25%</th>\n",
       "      <td>7.100000</td>\n",
       "      <td>0.390000</td>\n",
       "      <td>0.090000</td>\n",
       "      <td>1.900000</td>\n",
       "      <td>0.070000</td>\n",
       "      <td>7.000000</td>\n",
       "      <td>22.000000</td>\n",
       "      <td>0.995600</td>\n",
       "      <td>3.210000</td>\n",
       "      <td>0.550000</td>\n",
       "      <td>9.500000</td>\n",
       "      <td>5.000000</td>\n",
       "    </tr>\n",
       "    <tr>\n",
       "      <th>50%</th>\n",
       "      <td>7.900000</td>\n",
       "      <td>0.520000</td>\n",
       "      <td>0.260000</td>\n",
       "      <td>2.200000</td>\n",
       "      <td>0.079000</td>\n",
       "      <td>14.000000</td>\n",
       "      <td>38.000000</td>\n",
       "      <td>0.996750</td>\n",
       "      <td>3.310000</td>\n",
       "      <td>0.620000</td>\n",
       "      <td>10.200000</td>\n",
       "      <td>6.000000</td>\n",
       "    </tr>\n",
       "    <tr>\n",
       "      <th>75%</th>\n",
       "      <td>9.200000</td>\n",
       "      <td>0.640000</td>\n",
       "      <td>0.420000</td>\n",
       "      <td>2.600000</td>\n",
       "      <td>0.090000</td>\n",
       "      <td>21.000000</td>\n",
       "      <td>62.000000</td>\n",
       "      <td>0.997835</td>\n",
       "      <td>3.400000</td>\n",
       "      <td>0.730000</td>\n",
       "      <td>11.100000</td>\n",
       "      <td>6.000000</td>\n",
       "    </tr>\n",
       "    <tr>\n",
       "      <th>max</th>\n",
       "      <td>15.900000</td>\n",
       "      <td>1.580000</td>\n",
       "      <td>1.000000</td>\n",
       "      <td>15.500000</td>\n",
       "      <td>0.611000</td>\n",
       "      <td>72.000000</td>\n",
       "      <td>289.000000</td>\n",
       "      <td>1.003690</td>\n",
       "      <td>4.010000</td>\n",
       "      <td>2.000000</td>\n",
       "      <td>14.900000</td>\n",
       "      <td>8.000000</td>\n",
       "    </tr>\n",
       "  </tbody>\n",
       "</table>\n",
       "</div>"
      ],
      "text/plain": [
       "       fixed acidity  volatile acidity  citric acid  residual sugar  \\\n",
       "count    1599.000000       1599.000000  1599.000000     1599.000000   \n",
       "mean        8.319637          0.527821     0.270976        2.538806   \n",
       "std         1.741096          0.179060     0.194801        1.409928   \n",
       "min         4.600000          0.120000     0.000000        0.900000   \n",
       "25%         7.100000          0.390000     0.090000        1.900000   \n",
       "50%         7.900000          0.520000     0.260000        2.200000   \n",
       "75%         9.200000          0.640000     0.420000        2.600000   \n",
       "max        15.900000          1.580000     1.000000       15.500000   \n",
       "\n",
       "         chlorides  free sulfur dioxide  total sulfur dioxide      density  \\\n",
       "count  1599.000000          1599.000000           1599.000000  1599.000000   \n",
       "mean      0.087467            15.874922             46.467792     0.996747   \n",
       "std       0.047065            10.460157             32.895324     0.001887   \n",
       "min       0.012000             1.000000              6.000000     0.990070   \n",
       "25%       0.070000             7.000000             22.000000     0.995600   \n",
       "50%       0.079000            14.000000             38.000000     0.996750   \n",
       "75%       0.090000            21.000000             62.000000     0.997835   \n",
       "max       0.611000            72.000000            289.000000     1.003690   \n",
       "\n",
       "                pH    sulphates      alcohol      quality  \n",
       "count  1599.000000  1599.000000  1599.000000  1599.000000  \n",
       "mean      3.311113     0.658149    10.422983     5.636023  \n",
       "std       0.154386     0.169507     1.065668     0.807569  \n",
       "min       2.740000     0.330000     8.400000     3.000000  \n",
       "25%       3.210000     0.550000     9.500000     5.000000  \n",
       "50%       3.310000     0.620000    10.200000     6.000000  \n",
       "75%       3.400000     0.730000    11.100000     6.000000  \n",
       "max       4.010000     2.000000    14.900000     8.000000  "
      ]
     },
     "execution_count": 49,
     "metadata": {},
     "output_type": "execute_result"
    }
   ],
   "source": [
    "#Descripción de los datos\n",
    "Data.describe()"
   ]
  },
  {
   "cell_type": "code",
   "execution_count": 50,
   "id": "09cca601-0455-4ad2-aae7-75b09d701090",
   "metadata": {},
   "outputs": [
    {
     "name": "stdout",
     "output_type": "stream",
     "text": [
      "<class 'pandas.core.frame.DataFrame'>\n",
      "RangeIndex: 1599 entries, 0 to 1598\n",
      "Data columns (total 12 columns):\n",
      " #   Column                Non-Null Count  Dtype  \n",
      "---  ------                --------------  -----  \n",
      " 0   fixed acidity         1599 non-null   float64\n",
      " 1   volatile acidity      1599 non-null   float64\n",
      " 2   citric acid           1599 non-null   float64\n",
      " 3   residual sugar        1599 non-null   float64\n",
      " 4   chlorides             1599 non-null   float64\n",
      " 5   free sulfur dioxide   1599 non-null   float64\n",
      " 6   total sulfur dioxide  1599 non-null   float64\n",
      " 7   density               1599 non-null   float64\n",
      " 8   pH                    1599 non-null   float64\n",
      " 9   sulphates             1599 non-null   float64\n",
      " 10  alcohol               1599 non-null   float64\n",
      " 11  quality               1599 non-null   int64  \n",
      "dtypes: float64(11), int64(1)\n",
      "memory usage: 150.0 KB\n"
     ]
    }
   ],
   "source": [
    "#Revisar tipo de datos y datos faltantes\n",
    "Data.info()"
   ]
  },
  {
   "cell_type": "markdown",
   "id": "2a2a9895-32de-46db-b488-39ef6ceffc2d",
   "metadata": {},
   "source": [
    "2. Preprocesar los datos limpiándolos, tratando valores faltantes y \r\n",
    "transformándolos según sea necesari.o"
   ]
  },
  {
   "cell_type": "code",
   "execution_count": 52,
   "id": "74d8773e-fcb4-49c9-bb78-4118c8b64344",
   "metadata": {},
   "outputs": [
    {
     "name": "stdout",
     "output_type": "stream",
     "text": [
      "Cantidad de datos para variable -acidez fijado- sin información:  0\n",
      "Cantidad de datos para variable -volatile acidity - sin información:  0\n",
      "Cantidad de datos para variable -citric acid- sin información:  132\n",
      "Cantidad de datos para variable -residual sugar- sin información:  0\n",
      "Cantidad de datos para variable -chlorides- sin información:  0\n",
      "Cantidad de datos para variable -free sulfur dioxide- sin información:  0\n",
      "Cantidad de datos para variable -total sulfur dioxide- sin información:  0\n",
      "Cantidad de datos para variable -density- sin información:  0\n",
      "Cantidad de datos para variable -pH- sin información:  0\n",
      "Cantidad de datos para variable -sulphates- sin información:  0\n",
      "Cantidad de datos para variable -alcohol- sin información:  0\n",
      "Cantidad de datos para variable -quality- sin información:  0\n"
     ]
    }
   ],
   "source": [
    "print(\"Cantidad de datos para variable -acidez fijado- sin información: \",Data['fixed acidity'].isin([0]).sum())\n",
    "print(\"Cantidad de datos para variable -volatile acidity - sin información: \",Data['volatile acidity'].isin([0]).sum())\n",
    "print(\"Cantidad de datos para variable -citric acid- sin información: \",Data['citric acid'].isin([0]).sum())\n",
    "print(\"Cantidad de datos para variable -residual sugar- sin información: \",Data['residual sugar'].isin([0]).sum())\n",
    "print(\"Cantidad de datos para variable -chlorides- sin información: \",Data['chlorides'].isin([0]).sum())\n",
    "print(\"Cantidad de datos para variable -free sulfur dioxide- sin información: \",Data['free sulfur dioxide'].isin([0]).sum())\n",
    "print(\"Cantidad de datos para variable -total sulfur dioxide- sin información: \",Data['total sulfur dioxide'].isin([0]).sum())\n",
    "print(\"Cantidad de datos para variable -density- sin información: \",Data['density'].isin([0]).sum())\n",
    "print(\"Cantidad de datos para variable -pH- sin información: \",Data['pH'].isin([0]).sum())\n",
    "print(\"Cantidad de datos para variable -sulphates- sin información: \",Data['sulphates'].isin([0]).sum())\n",
    "print(\"Cantidad de datos para variable -alcohol- sin información: \",Data['alcohol'].isin([0]).sum())\n",
    "print(\"Cantidad de datos para variable -quality- sin información: \",Data['quality'].isin([0]).sum())"
   ]
  },
  {
   "cell_type": "code",
   "execution_count": 53,
   "id": "6450eb56-2a21-4efb-a333-c33600926ea9",
   "metadata": {},
   "outputs": [],
   "source": [
    "# Reemplazar valores \n",
    "Data['citric acid'] = Data['citric acid'].replace(0, Data['citric acid'].mean())"
   ]
  },
  {
   "cell_type": "code",
   "execution_count": 54,
   "id": "391ffef1-f02b-4138-bb7d-0ac0624b6439",
   "metadata": {},
   "outputs": [
    {
     "name": "stdout",
     "output_type": "stream",
     "text": [
      "Cantidad de datos para variable -citric acid- sin información:  0\n"
     ]
    }
   ],
   "source": [
    "print(\"Cantidad de datos para variable -citric acid- sin información: \",Data['citric acid'].isin([0]).sum())"
   ]
  },
  {
   "cell_type": "code",
   "execution_count": 55,
   "id": "6b3e38b9-1a82-4c32-896e-5301ffacc93a",
   "metadata": {},
   "outputs": [
    {
     "data": {
      "text/plain": [
       "Text(0.5, 1.0, 'Representación de datos atipicos y faltantes para acidez fija')"
      ]
     },
     "execution_count": 55,
     "metadata": {},
     "output_type": "execute_result"
    },
    {
     "data": {
      "image/png": "[encoded data removed]",
      "text/plain": [
       "<Figure size 2200x300 with 1 Axes>"
      ]
     },
     "metadata": {},
     "output_type": "display_data"
    }
   ],
   "source": [
    "#Identificación de datos faltantes y atipicos variable fixed acidity\n",
    "plt.figure(figsize=(22,3))\n",
    "sns.boxplot(x=Data['fixed acidity'])\n",
    "plt.title('Representación de datos atipicos y faltantes para acidez fija', fontsize=10)"
   ]
  },
  {
   "cell_type": "code",
   "execution_count": 60,
   "id": "ee71bced-2635-41ef-8814-25e5f0b8767c",
   "metadata": {},
   "outputs": [
    {
     "name": "stdout",
     "output_type": "stream",
     "text": [
      "El total de los datos atipicos para variable -fixed acidity- es 10\n"
     ]
    }
   ],
   "source": [
    "#Contar datos atipicos variable acidez fija\n",
    "nivel_min = 3\n",
    "nivel_max = 12.7\n",
    "Cant_Atipicos=((Data['fixed acidity']<nivel_min)|(Data['fixed acidity']>nivel_max)).sum()\n",
    "print(\"El total de los datos atipicos para variable -fixed acidity- es {}\".format(Cant_Atipicos))"
   ]
  },
  {
   "cell_type": "code",
   "execution_count": 61,
   "id": "1b378d77-716e-4f97-9803-2802104238b5",
   "metadata": {},
   "outputs": [],
   "source": [
    "#Filtrar datos atipicos\n",
    "Data=Data[(Data['fixed acidity']>nivel_min)&(Data['fixed acidity']<nivel_max)]"
   ]
  },
  {
   "cell_type": "code",
   "execution_count": 39,
   "id": "7d606f0a-fa1f-44a5-95be-1d28a94948ce",
   "metadata": {},
   "outputs": [
    {
     "name": "stdout",
     "output_type": "stream",
     "text": [
      "El total de los datos atipicos para variable -fixed acidity- es 0\n"
     ]
    }
   ],
   "source": [
    "#Validar si se eliminaron datos atípicos\n",
    "Cant_Atipicos=((Data['fixed acidity']<nivel_min)|(Data['fixed acidity']>nivel_max)).sum()\n",
    "print(\"El total de los datos atipicos para variable -fixed acidity- es {}\".format(Cant_Atipicos))"
   ]
  },
  {
   "cell_type": "code",
   "execution_count": 62,
   "id": "cd192c2a-762c-4603-bbbd-6214689a8831",
   "metadata": {},
   "outputs": [
    {
     "data": {
      "text/plain": [
       "Text(0.5, 1.0, 'Representación de datos atipicos y faltantes para acidez fija')"
      ]
     },
     "execution_count": 62,
     "metadata": {},
     "output_type": "execute_result"
    },
    {
     "data": {
      "image/png": "[encoded data removed]",
      "text/plain": [
       "<Figure size 2200x300 with 1 Axes>"
      ]
     },
     "metadata": {},
     "output_type": "display_data"
    }
   ],
   "source": [
    "#Identificación de datos faltantes y atipicos variable fixed acidity\n",
    "plt.figure(figsize=(22,3))\n",
    "sns.boxplot(x=Data['fixed acidity'])\n",
    "plt.title('Representación de datos atipicos y faltantes para acidez fija', fontsize=10)"
   ]
  },
  {
   "cell_type": "markdown",
   "id": "0cae0acc-8935-4599-9f7e-734333ec6ccb",
   "metadata": {},
   "source": [
    "Identificar y reemplazar valore atípicos para todas las variables"
   ]
  },
  {
   "cell_type": "code",
   "execution_count": 65,
   "id": "fa36488f-772d-4e1d-a5ab-eb9f6dcce126",
   "metadata": {},
   "outputs": [
    {
     "data": {
      "text/plain": [
       "Text(0.5, 1.0, 'Representación de datos atipicos y faltantes para acidez volátil')"
      ]
     },
     "execution_count": 65,
     "metadata": {},
     "output_type": "execute_result"
    },
    {
     "data": {
      "image/png": "[encoded data removed]",
      "text/plain": [
       "<Figure size 2000x300 with 1 Axes>"
      ]
     },
     "metadata": {},
     "output_type": "display_data"
    }
   ],
   "source": [
    "#Identificación de datos faltantes y atipicos variable volatile acidity\n",
    "plt.figure(figsize=(20,3))\n",
    "sns.boxplot(x=Data['volatile acidity'])\n",
    "plt.title('Representación de datos atipicos y faltantes para acidez volátil', fontsize=10)"
   ]
  },
  {
   "cell_type": "code",
   "execution_count": 67,
   "id": "66266a9c-13d8-4b23-8304-02ea0f93a17f",
   "metadata": {},
   "outputs": [
    {
     "name": "stdout",
     "output_type": "stream",
     "text": [
      "El total de los datos atipicos para variable -volatile acidity- es 8\n"
     ]
    }
   ],
   "source": [
    "#Contar datos atipicos variable acidez volatil\n",
    "nivel_min = 0.12\n",
    "nivel_max = 1.6\n",
    "Cant_Atipicos=((Data['volatile acidity']<nivel_min)|(Data['volatile acidity']>nivel_max)).sum()\n",
    "print(\"El total de los datos atipicos para variable -volatile acidity- es {}\".format(Cant_Atipicos))"
   ]
  },
  {
   "cell_type": "code",
   "execution_count": 68,
   "id": "84a3830e-da5c-4a76-917c-d5345759081b",
   "metadata": {},
   "outputs": [],
   "source": [
    "#Filtrar datos atipicos\n",
    "Data=Data[(Data['volatile acidity']>nivel_min)&(Data['fixed acidity']<nivel_max)]"
   ]
  },
  {
   "cell_type": "code",
   "execution_count": 69,
   "id": "e783abda-a60a-49eb-b68f-d00da967e31f",
   "metadata": {},
   "outputs": [
    {
     "name": "stdout",
     "output_type": "stream",
     "text": [
      "El total de los datos atipicos para variable -volatile acidity- es 0\n"
     ]
    }
   ],
   "source": [
    "#Validar si se eliminaron datos atípicos\n",
    "Cant_Atipicos=((Data['volatile acidity']<nivel_min)|(Data['volatile acidity']>nivel_max)).sum()\n",
    "print(\"El total de los datos atipicos para variable -volatile acidity- es {}\".format(Cant_Atipicos))"
   ]
  },
  {
   "cell_type": "markdown",
   "id": "5773a0d2-bd5c-4d73-9b8a-d28bfe8b5a2d",
   "metadata": {},
   "source": [
    "3. Seleccionar las características más relevantes para entrenar el modelo utilizando selección de características."
   ]
  },
  {
   "cell_type": "markdown",
   "id": "287b9b75-0135-4f67-b1fa-a700197fcc10",
   "metadata": {},
   "source": [
    "4. Dividir el dataset en Train y Test para evaluar correctamente el \r\n",
    "modelo."
   ]
  },
  {
   "cell_type": "markdown",
   "id": "568bed25-6573-437f-92fb-bce0a6d622e4",
   "metadata": {},
   "source": [
    "5. Entrenar el modelo configurando los diferentes hiperparámetros.Entrenar el modelo configurando los diferentes \n",
    "hiperparámetros.\n"
   ]
  },
  {
   "cell_type": "markdown",
   "id": "56a986e4-9177-4978-b63d-9ed6824babcc",
   "metadata": {},
   "source": [
    "6. Evaluar el desempeño del modelo en el conjunto de Test con \r\n",
    "métricas como precisión, recall, F1-score, etc."
   ]
  },
  {
   "cell_type": "markdown",
   "id": "c989f50f-03c4-452f-84bc-ff9779796030",
   "metadata": {},
   "source": [
    "7. Realizar las diferentes gráficas que permitan visualizar los resultados del modelo."
   ]
  },
  {
   "cell_type": "markdown",
   "id": "46fd0956-14ac-4e9b-ae94-75426aa1dbdd",
   "metadata": {},
   "source": [
    "8. Interpretar, analizar y documentar los resultados obtenidos."
   ]
  }
 ],
 "metadata": {
  "kernelspec": {
   "display_name": "Python 3 (ipykernel)",
   "language": "python",
   "name": "python3"
  },
  "language_info": {
   "codemirror_mode": {
    "name": "ipython",
    "version": 3
   },
   "file_extension": ".py",
   "mimetype": "text/x-python",
   "name": "python",
   "nbconvert_exporter": "python",
   "pygments_lexer": "ipython3",
   "version": "3.11.7"
  }
 },
 "nbformat": 4,
 "nbformat_minor": 5
}
